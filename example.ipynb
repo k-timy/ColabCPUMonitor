{
  "nbformat": 4,
  "nbformat_minor": 0,
  "metadata": {
    "colab": {
      "name": "example.ipynb",
      "provenance": [],
      "authorship_tag": "ABX9TyPhGQ/C5m+0sXYH96OgM+dU",
      "include_colab_link": true
    },
    "kernelspec": {
      "name": "python3",
      "display_name": "Python 3"
    }
  },
  "cells": [
    {
      "cell_type": "markdown",
      "metadata": {
        "id": "view-in-github",
        "colab_type": "text"
      },
      "source": [
        "<a href=\"https://colab.research.google.com/github/k-timy/SimpleCPUMonitor/blob/main/example.ipynb\" target=\"_parent\"><img src=\"https://colab.research.google.com/assets/colab-badge.svg\" alt=\"Open In Colab\"/></a>"
      ]
    },
    {
      "cell_type": "code",
      "metadata": {
        "id": "3AT0e7YwZVVs"
      },
      "source": [
        "!pip3 install git+https://github.com/k-timy/SimpleCPUMonitor.git"
      ],
      "execution_count": null,
      "outputs": []
    },
    {
      "cell_type": "code",
      "metadata": {
        "id": "X5F_xW0eZu90"
      },
      "source": [
        "from SimpleCPUMonitor import CPUMonitor\n",
        "import time\n",
        "\n",
        "monitor = CPUMonitor()\n",
        "\n",
        "# run a time consuming thread...\n",
        "for i in range(10):\n",
        "    time.sleep(0.6)\n",
        "# done with the process.    \n",
        "\n",
        "monitor.stop()"
      ],
      "execution_count": null,
      "outputs": []
    }
  ]
}